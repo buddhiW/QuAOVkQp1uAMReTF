{
 "cells": [
  {
   "cell_type": "markdown",
   "metadata": {},
   "source": [
    "## Project 1\n",
    "\n",
    "Start Date: Jan 27 2025"
   ]
  },
  {
   "cell_type": "code",
   "execution_count": 1,
   "metadata": {},
   "outputs": [],
   "source": [
    "#Imports\n",
    "import os\n",
    "\n",
    "import pandas as pd\n",
    "import matplotlib.pyplot as plt\n",
    "import numpy as np\n",
    "import seaborn as sns\n",
    "import random\n",
    "from itertools import combinations\n",
    "from datetime import datetime\n",
    "from collections import defaultdict, Counter\n",
    "\n",
    "from lazypredict.Supervised import LazyClassifier\n",
    "from sklearn.model_selection import train_test_split, cross_val_score, StratifiedKFold, KFold, LeaveOneOut\n",
    "from sklearn.model_selection import RandomizedSearchCV, GridSearchCV\n",
    "from sklearn.feature_selection import RFE, RFECV, SelectKBest, mutual_info_classif, chi2\n",
    "from sklearn.pipeline import Pipeline\n",
    "from sklearn.impute import SimpleImputer\n",
    "from sklearn.preprocessing import StandardScaler, MinMaxScaler, Binarizer\n",
    "from sklearn.compose import ColumnTransformer\n",
    "\n",
    "from hyperopt import fmin, tpe,rand, hp, STATUS_OK,space_eval, Trials\n",
    "from hyperopt.pyll.base import scope\n",
    "from hyperopt.early_stop import no_progress_loss\n",
    "\n",
    "from sklearn.metrics import accuracy_score\n",
    "from sklearn.metrics import precision_score, recall_score\n",
    "from sklearn.metrics import confusion_matrix, ConfusionMatrixDisplay\n",
    "from sklearn.metrics import roc_curve, auc\n",
    "\n",
    "from lightgbm import LGBMClassifier\n",
    "from xgboost import XGBClassifier\n",
    "from sklearn import tree\n",
    "from sklearn.ensemble import ExtraTreesClassifier, BaggingClassifier, AdaBoostClassifier, RandomForestClassifier\n",
    "from sklearn.tree import ExtraTreeClassifier\n",
    "from sklearn.ensemble import VotingClassifier, StackingClassifier\n",
    "from sklearn.tree import DecisionTreeClassifier\n",
    "from sklearn.linear_model import SGDClassifier, LogisticRegression\n",
    "from sklearn.inspection import partial_dependence, PartialDependenceDisplay\n",
    "from sklearn.naive_bayes import BernoulliNB\n",
    "from sklearn.svm import LinearSVC, SVC, NuSVC\n",
    "\n",
    "from xgboost import plot_importance\n",
    "from xgboost import plot_tree\n",
    "\n",
    "from models import hyperOpt_NaiveBayes, hyperOpt_AdaBoost, hyperOpt_LinearSVC\n",
    "#import shap\n"
   ]
  },
  {
   "cell_type": "code",
   "execution_count": 2,
   "metadata": {},
   "outputs": [
    {
     "name": "stdout",
     "output_type": "stream",
     "text": [
      "3543\n"
     ]
    }
   ],
   "source": [
    "#seed = random.randint(1000, 9999)\n",
    "seed = 3543 #2851 # \n",
    "np.random.seed(seed)\n",
    "random.seed(seed)\n",
    "print(seed)"
   ]
  },
  {
   "cell_type": "code",
   "execution_count": 3,
   "metadata": {},
   "outputs": [
    {
     "data": {
      "text/html": [
       "<div>\n",
       "<style scoped>\n",
       "    .dataframe tbody tr th:only-of-type {\n",
       "        vertical-align: middle;\n",
       "    }\n",
       "\n",
       "    .dataframe tbody tr th {\n",
       "        vertical-align: top;\n",
       "    }\n",
       "\n",
       "    .dataframe thead th {\n",
       "        text-align: right;\n",
       "    }\n",
       "</style>\n",
       "<table border=\"1\" class=\"dataframe\">\n",
       "  <thead>\n",
       "    <tr style=\"text-align: right;\">\n",
       "      <th></th>\n",
       "      <th>Y</th>\n",
       "      <th>X1</th>\n",
       "      <th>X2</th>\n",
       "      <th>X3</th>\n",
       "      <th>X4</th>\n",
       "      <th>X5</th>\n",
       "      <th>X6</th>\n",
       "    </tr>\n",
       "  </thead>\n",
       "  <tbody>\n",
       "    <tr>\n",
       "      <th>0</th>\n",
       "      <td>0</td>\n",
       "      <td>3</td>\n",
       "      <td>3</td>\n",
       "      <td>3</td>\n",
       "      <td>4</td>\n",
       "      <td>2</td>\n",
       "      <td>4</td>\n",
       "    </tr>\n",
       "    <tr>\n",
       "      <th>1</th>\n",
       "      <td>0</td>\n",
       "      <td>3</td>\n",
       "      <td>2</td>\n",
       "      <td>3</td>\n",
       "      <td>5</td>\n",
       "      <td>4</td>\n",
       "      <td>3</td>\n",
       "    </tr>\n",
       "    <tr>\n",
       "      <th>2</th>\n",
       "      <td>1</td>\n",
       "      <td>5</td>\n",
       "      <td>3</td>\n",
       "      <td>3</td>\n",
       "      <td>3</td>\n",
       "      <td>3</td>\n",
       "      <td>5</td>\n",
       "    </tr>\n",
       "    <tr>\n",
       "      <th>3</th>\n",
       "      <td>0</td>\n",
       "      <td>5</td>\n",
       "      <td>4</td>\n",
       "      <td>3</td>\n",
       "      <td>3</td>\n",
       "      <td>3</td>\n",
       "      <td>5</td>\n",
       "    </tr>\n",
       "    <tr>\n",
       "      <th>4</th>\n",
       "      <td>0</td>\n",
       "      <td>5</td>\n",
       "      <td>4</td>\n",
       "      <td>3</td>\n",
       "      <td>3</td>\n",
       "      <td>3</td>\n",
       "      <td>5</td>\n",
       "    </tr>\n",
       "  </tbody>\n",
       "</table>\n",
       "</div>"
      ],
      "text/plain": [
       "   Y  X1  X2  X3  X4  X5  X6\n",
       "0  0   3   3   3   4   2   4\n",
       "1  0   3   2   3   5   4   3\n",
       "2  1   5   3   3   3   3   5\n",
       "3  0   5   4   3   3   3   5\n",
       "4  0   5   4   3   3   3   5"
      ]
     },
     "execution_count": 3,
     "metadata": {},
     "output_type": "execute_result"
    }
   ],
   "source": [
    "# Load the data\n",
    "df = pd.read_csv(\"data/ACME-HappinessSurvey2020.csv\")\n",
    "df.head()"
   ]
  },
  {
   "cell_type": "markdown",
   "metadata": {},
   "source": [
    "## Exploratory Data Analysis"
   ]
  },
  {
   "cell_type": "code",
   "execution_count": 4,
   "metadata": {},
   "outputs": [
    {
     "name": "stdout",
     "output_type": "stream",
     "text": [
      "<class 'pandas.core.frame.DataFrame'>\n",
      "RangeIndex: 126 entries, 0 to 125\n",
      "Data columns (total 7 columns):\n",
      " #   Column  Non-Null Count  Dtype\n",
      "---  ------  --------------  -----\n",
      " 0   Y       126 non-null    int64\n",
      " 1   X1      126 non-null    int64\n",
      " 2   X2      126 non-null    int64\n",
      " 3   X3      126 non-null    int64\n",
      " 4   X4      126 non-null    int64\n",
      " 5   X5      126 non-null    int64\n",
      " 6   X6      126 non-null    int64\n",
      "dtypes: int64(7)\n",
      "memory usage: 7.0 KB\n"
     ]
    }
   ],
   "source": [
    "df.info()"
   ]
  },
  {
   "cell_type": "code",
   "execution_count": 5,
   "metadata": {},
   "outputs": [
    {
     "data": {
      "text/html": [
       "<div>\n",
       "<style scoped>\n",
       "    .dataframe tbody tr th:only-of-type {\n",
       "        vertical-align: middle;\n",
       "    }\n",
       "\n",
       "    .dataframe tbody tr th {\n",
       "        vertical-align: top;\n",
       "    }\n",
       "\n",
       "    .dataframe thead th {\n",
       "        text-align: right;\n",
       "    }\n",
       "</style>\n",
       "<table border=\"1\" class=\"dataframe\">\n",
       "  <thead>\n",
       "    <tr style=\"text-align: right;\">\n",
       "      <th></th>\n",
       "      <th>Y</th>\n",
       "      <th>X1</th>\n",
       "      <th>X2</th>\n",
       "      <th>X3</th>\n",
       "      <th>X4</th>\n",
       "      <th>X5</th>\n",
       "      <th>X6</th>\n",
       "    </tr>\n",
       "  </thead>\n",
       "  <tbody>\n",
       "    <tr>\n",
       "      <th>count</th>\n",
       "      <td>126.00</td>\n",
       "      <td>126.00</td>\n",
       "      <td>126.00</td>\n",
       "      <td>126.00</td>\n",
       "      <td>126.00</td>\n",
       "      <td>126.00</td>\n",
       "      <td>126.00</td>\n",
       "    </tr>\n",
       "    <tr>\n",
       "      <th>mean</th>\n",
       "      <td>0.55</td>\n",
       "      <td>4.33</td>\n",
       "      <td>2.53</td>\n",
       "      <td>3.31</td>\n",
       "      <td>3.75</td>\n",
       "      <td>3.65</td>\n",
       "      <td>4.25</td>\n",
       "    </tr>\n",
       "    <tr>\n",
       "      <th>std</th>\n",
       "      <td>0.50</td>\n",
       "      <td>0.80</td>\n",
       "      <td>1.11</td>\n",
       "      <td>1.02</td>\n",
       "      <td>0.88</td>\n",
       "      <td>1.15</td>\n",
       "      <td>0.81</td>\n",
       "    </tr>\n",
       "    <tr>\n",
       "      <th>min</th>\n",
       "      <td>0.00</td>\n",
       "      <td>1.00</td>\n",
       "      <td>1.00</td>\n",
       "      <td>1.00</td>\n",
       "      <td>1.00</td>\n",
       "      <td>1.00</td>\n",
       "      <td>1.00</td>\n",
       "    </tr>\n",
       "    <tr>\n",
       "      <th>25%</th>\n",
       "      <td>0.00</td>\n",
       "      <td>4.00</td>\n",
       "      <td>2.00</td>\n",
       "      <td>3.00</td>\n",
       "      <td>3.00</td>\n",
       "      <td>3.00</td>\n",
       "      <td>4.00</td>\n",
       "    </tr>\n",
       "    <tr>\n",
       "      <th>50%</th>\n",
       "      <td>1.00</td>\n",
       "      <td>5.00</td>\n",
       "      <td>3.00</td>\n",
       "      <td>3.00</td>\n",
       "      <td>4.00</td>\n",
       "      <td>4.00</td>\n",
       "      <td>4.00</td>\n",
       "    </tr>\n",
       "    <tr>\n",
       "      <th>75%</th>\n",
       "      <td>1.00</td>\n",
       "      <td>5.00</td>\n",
       "      <td>3.00</td>\n",
       "      <td>4.00</td>\n",
       "      <td>4.00</td>\n",
       "      <td>4.00</td>\n",
       "      <td>5.00</td>\n",
       "    </tr>\n",
       "    <tr>\n",
       "      <th>max</th>\n",
       "      <td>1.00</td>\n",
       "      <td>5.00</td>\n",
       "      <td>5.00</td>\n",
       "      <td>5.00</td>\n",
       "      <td>5.00</td>\n",
       "      <td>5.00</td>\n",
       "      <td>5.00</td>\n",
       "    </tr>\n",
       "  </tbody>\n",
       "</table>\n",
       "</div>"
      ],
      "text/plain": [
       "           Y     X1     X2     X3     X4     X5     X6\n",
       "count 126.00 126.00 126.00 126.00 126.00 126.00 126.00\n",
       "mean    0.55   4.33   2.53   3.31   3.75   3.65   4.25\n",
       "std     0.50   0.80   1.11   1.02   0.88   1.15   0.81\n",
       "min     0.00   1.00   1.00   1.00   1.00   1.00   1.00\n",
       "25%     0.00   4.00   2.00   3.00   3.00   3.00   4.00\n",
       "50%     1.00   5.00   3.00   3.00   4.00   4.00   4.00\n",
       "75%     1.00   5.00   3.00   4.00   4.00   4.00   5.00\n",
       "max     1.00   5.00   5.00   5.00   5.00   5.00   5.00"
      ]
     },
     "execution_count": 5,
     "metadata": {},
     "output_type": "execute_result"
    }
   ],
   "source": [
    "df.describe()"
   ]
  },
  {
   "cell_type": "markdown",
   "metadata": {},
   "source": [
    "All features except for X2 are left-skewed. X2 has a right-skew. Frequency plots below depict this. "
   ]
  },
  {
   "cell_type": "code",
   "execution_count": 6,
   "metadata": {},
   "outputs": [
    {
     "data": {
      "image/png": "[encoded data removed]",
      "text/plain": [
       "<Figure size 600x1000 with 6 Axes>"
      ]
     },
     "metadata": {},
     "output_type": "display_data"
    }
   ],
   "source": [
    "df_excluded = df.drop(columns=['Y'])\n",
    "\n",
    "# Plot frequency bar plot for independent variables\n",
    "\n",
    "# Values to count\n",
    "values_to_count = [1, 2, 3, 4, 5]\n",
    "\n",
    "# Frequency count for each column\n",
    "frequency = df_excluded.apply(lambda col: col.value_counts().reindex(values_to_count, fill_value=0))\n",
    "\n",
    "fig, axs = plt.subplots(3, 2, figsize=(6,10))\n",
    "axs = axs.ravel()\n",
    "idx = 0\n",
    "for col in frequency.columns:\n",
    "    frequency[col].plot(kind='bar', title=col, ax=axs[idx])\n",
    "    idx+=1\n",
    "\n",
    "plt.show()"
   ]
  },
  {
   "cell_type": "markdown",
   "metadata": {},
   "source": [
    "When both independent and dependent attributes are ordinal, then we can use a rank correlation coefficient. Correlation analysis below evaluates correlations between each feature and target.\n",
    "\n",
    "According to the results, X1, X3, X5 and X6 show the highest correlation to the target."
   ]
  },
  {
   "cell_type": "code",
   "execution_count": 7,
   "metadata": {},
   "outputs": [
    {
     "data": {
      "image/png": "[encoded data removed]",
      "text/plain": [
       "<Figure size 640x480 with 1 Axes>"
      ]
     },
     "metadata": {},
     "output_type": "display_data"
    }
   ],
   "source": [
    "# Spearman's rank correlation to evaluate correlation between target variable and each feature\n",
    "correlations = []\n",
    "for col in df_excluded.columns:\n",
    "    corr = df['Y'].corr(df_excluded[col], method='spearman')\n",
    "    correlations.append(corr)\n",
    "\n",
    "fig, ax = plt.subplots()\n",
    "ax.bar([1,2,3,4,5,6], correlations, tick_label=['X1','X2','X3','X4','X5','X6'])\n",
    "\n",
    "for i, v in enumerate(correlations):\n",
    "    ax.text(i + 0.75,v + 0.003, '{:0.2f}'.format(v), \n",
    "            color = 'blue', fontweight = 'bold')\n",
    "plt.show()"
   ]
  },
  {
   "cell_type": "markdown",
   "metadata": {},
   "source": [
    "## Building classification models"
   ]
  },
  {
   "cell_type": "code",
   "execution_count": 8,
   "metadata": {},
   "outputs": [
    {
     "name": "stdout",
     "output_type": "stream",
     "text": [
      "(100, 6) (26, 6) (100,) (26,)\n"
     ]
    }
   ],
   "source": [
    "features = ['X1', 'X2', 'X3', 'X4', 'X5', 'X6']\n",
    "X = df[features]\n",
    "Y = df['Y']\n",
    "\n",
    "# Split into training and testing sets\n",
    "x_train, x_test, y_train, y_test = train_test_split(X, Y, test_size=0.2, random_state=seed)\n",
    "\n",
    "# Print the shapes of the resulting sets\n",
    "print(x_train.shape, x_test.shape, y_train.shape, y_test.shape)"
   ]
  },
  {
   "cell_type": "code",
   "execution_count": 9,
   "metadata": {},
   "outputs": [],
   "source": [
    "# Setting 'unhappy' as the positive class\n",
    "def recall_func(y_test, y_pred):\n",
    "    return recall_score(y_test, y_pred, pos_label=0)"
   ]
  },
  {
   "cell_type": "markdown",
   "metadata": {},
   "source": [
    "## Model selection"
   ]
  },
  {
   "cell_type": "code",
   "execution_count": 10,
   "metadata": {},
   "outputs": [
    {
     "name": "stdout",
     "output_type": "stream",
     "text": [
      "[('AdaBoostClassifier', <class 'sklearn.ensemble._weight_boosting.AdaBoostClassifier'>), ('BaggingClassifier', <class 'sklearn.ensemble._bagging.BaggingClassifier'>), ('BernoulliNB', <class 'sklearn.naive_bayes.BernoulliNB'>), ('CalibratedClassifierCV', <class 'sklearn.calibration.CalibratedClassifierCV'>), ('CategoricalNB', <class 'sklearn.naive_bayes.CategoricalNB'>), ('DecisionTreeClassifier', <class 'sklearn.tree._classes.DecisionTreeClassifier'>), ('DummyClassifier', <class 'sklearn.dummy.DummyClassifier'>), ('ExtraTreeClassifier', <class 'sklearn.tree._classes.ExtraTreeClassifier'>), ('ExtraTreesClassifier', <class 'sklearn.ensemble._forest.ExtraTreesClassifier'>), ('GaussianNB', <class 'sklearn.naive_bayes.GaussianNB'>), ('KNeighborsClassifier', <class 'sklearn.neighbors._classification.KNeighborsClassifier'>), ('LabelPropagation', <class 'sklearn.semi_supervised._label_propagation.LabelPropagation'>), ('LabelSpreading', <class 'sklearn.semi_supervised._label_propagation.LabelSpreading'>), ('LinearDiscriminantAnalysis', <class 'sklearn.discriminant_analysis.LinearDiscriminantAnalysis'>), ('LinearSVC', <class 'sklearn.svm._classes.LinearSVC'>), ('LogisticRegression', <class 'sklearn.linear_model._logistic.LogisticRegression'>), ('NearestCentroid', <class 'sklearn.neighbors._nearest_centroid.NearestCentroid'>), ('NuSVC', <class 'sklearn.svm._classes.NuSVC'>), ('PassiveAggressiveClassifier', <class 'sklearn.linear_model._passive_aggressive.PassiveAggressiveClassifier'>), ('Perceptron', <class 'sklearn.linear_model._perceptron.Perceptron'>), ('QuadraticDiscriminantAnalysis', <class 'sklearn.discriminant_analysis.QuadraticDiscriminantAnalysis'>), ('RandomForestClassifier', <class 'sklearn.ensemble._forest.RandomForestClassifier'>), ('RidgeClassifier', <class 'sklearn.linear_model._ridge.RidgeClassifier'>), ('RidgeClassifierCV', <class 'sklearn.linear_model._ridge.RidgeClassifierCV'>), ('SGDClassifier', <class 'sklearn.linear_model._stochastic_gradient.SGDClassifier'>), ('SVC', <class 'sklearn.svm._classes.SVC'>), ('StackingClassifier', <class 'sklearn.ensemble._stacking.StackingClassifier'>), ('XGBClassifier', <class 'xgboost.sklearn.XGBClassifier'>), ('LGBMClassifier', <class 'lightgbm.sklearn.LGBMClassifier'>)]\n"
     ]
    },
    {
     "name": "stderr",
     "output_type": "stream",
     "text": [
      "100%|██████████| 29/29 [00:02<00:00, 12.78it/s]"
     ]
    },
    {
     "name": "stdout",
     "output_type": "stream",
     "text": [
      "[LightGBM] [Info] Number of positive: 53, number of negative: 47\n",
      "[LightGBM] [Info] Auto-choosing row-wise multi-threading, the overhead of testing was 0.000031 seconds.\n",
      "You can set `force_row_wise=true` to remove the overhead.\n",
      "And if memory is not enough, you can set `force_col_wise=true`.\n",
      "[LightGBM] [Info] Total Bins 31\n",
      "[LightGBM] [Info] Number of data points in the train set: 100, number of used features: 6\n",
      "[LightGBM] [Info] [binary:BoostFromScore]: pavg=0.530000 -> initscore=0.120144\n",
      "[LightGBM] [Info] Start training from score 0.120144\n",
      "[LightGBM] [Warning] No further splits with positive gain, best gain: -inf\n",
      "[LightGBM] [Warning] No further splits with positive gain, best gain: -inf\n",
      "[LightGBM] [Warning] No further splits with positive gain, best gain: -inf\n",
      "[LightGBM] [Warning] No further splits with positive gain, best gain: -inf\n",
      "[LightGBM] [Warning] No further splits with positive gain, best gain: -inf\n",
      "[LightGBM] [Warning] No further splits with positive gain, best gain: -inf\n",
      "[LightGBM] [Warning] No further splits with positive gain, best gain: -inf\n",
      "[LightGBM] [Warning] No further splits with positive gain, best gain: -inf\n",
      "[LightGBM] [Warning] No further splits with positive gain, best gain: -inf\n",
      "[LightGBM] [Warning] No further splits with positive gain, best gain: -inf\n",
      "[LightGBM] [Warning] No further splits with positive gain, best gain: -inf\n",
      "[LightGBM] [Warning] No further splits with positive gain, best gain: -inf\n",
      "[LightGBM] [Warning] No further splits with positive gain, best gain: -inf\n",
      "[LightGBM] [Warning] No further splits with positive gain, best gain: -inf\n",
      "[LightGBM] [Warning] No further splits with positive gain, best gain: -inf\n",
      "[LightGBM] [Warning] No further splits with positive gain, best gain: -inf\n",
      "[LightGBM] [Warning] No further splits with positive gain, best gain: -inf\n",
      "[LightGBM] [Warning] No further splits with positive gain, best gain: -inf\n",
      "[LightGBM] [Warning] No further splits with positive gain, best gain: -inf\n",
      "[LightGBM] [Warning] No further splits with positive gain, best gain: -inf\n",
      "[LightGBM] [Warning] No further splits with positive gain, best gain: -inf\n",
      "[LightGBM] [Warning] No further splits with positive gain, best gain: -inf\n",
      "[LightGBM] [Warning] No further splits with positive gain, best gain: -inf\n",
      "[LightGBM] [Warning] No further splits with positive gain, best gain: -inf\n",
      "[LightGBM] [Warning] No further splits with positive gain, best gain: -inf\n",
      "[LightGBM] [Warning] No further splits with positive gain, best gain: -inf\n",
      "[LightGBM] [Warning] No further splits with positive gain, best gain: -inf\n",
      "[LightGBM] [Warning] No further splits with positive gain, best gain: -inf\n",
      "[LightGBM] [Warning] No further splits with positive gain, best gain: -inf\n",
      "[LightGBM] [Warning] No further splits with positive gain, best gain: -inf\n",
      "[LightGBM] [Warning] No further splits with positive gain, best gain: -inf\n",
      "[LightGBM] [Warning] No further splits with positive gain, best gain: -inf\n",
      "[LightGBM] [Warning] No further splits with positive gain, best gain: -inf\n",
      "[LightGBM] [Warning] No further splits with positive gain, best gain: -inf\n",
      "[LightGBM] [Warning] No further splits with positive gain, best gain: -inf\n",
      "[LightGBM] [Warning] No further splits with positive gain, best gain: -inf\n",
      "[LightGBM] [Warning] No further splits with positive gain, best gain: -inf\n",
      "[LightGBM] [Warning] No further splits with positive gain, best gain: -inf\n",
      "[LightGBM] [Warning] No further splits with positive gain, best gain: -inf\n",
      "[LightGBM] [Warning] No further splits with positive gain, best gain: -inf\n",
      "[LightGBM] [Warning] No further splits with positive gain, best gain: -inf\n",
      "[LightGBM] [Warning] No further splits with positive gain, best gain: -inf\n",
      "[LightGBM] [Warning] No further splits with positive gain, best gain: -inf\n",
      "[LightGBM] [Warning] No further splits with positive gain, best gain: -inf\n",
      "[LightGBM] [Warning] No further splits with positive gain, best gain: -inf\n",
      "[LightGBM] [Warning] No further splits with positive gain, best gain: -inf\n",
      "[LightGBM] [Warning] No further splits with positive gain, best gain: -inf\n",
      "[LightGBM] [Warning] No further splits with positive gain, best gain: -inf\n",
      "[LightGBM] [Warning] No further splits with positive gain, best gain: -inf\n",
      "[LightGBM] [Warning] No further splits with positive gain, best gain: -inf\n",
      "[LightGBM] [Warning] No further splits with positive gain, best gain: -inf\n",
      "[LightGBM] [Warning] No further splits with positive gain, best gain: -inf\n",
      "[LightGBM] [Warning] No further splits with positive gain, best gain: -inf\n",
      "[LightGBM] [Warning] No further splits with positive gain, best gain: -inf\n",
      "[LightGBM] [Warning] No further splits with positive gain, best gain: -inf\n",
      "[LightGBM] [Warning] No further splits with positive gain, best gain: -inf\n",
      "[LightGBM] [Warning] No further splits with positive gain, best gain: -inf\n",
      "[LightGBM] [Warning] No further splits with positive gain, best gain: -inf\n",
      "[LightGBM] [Warning] No further splits with positive gain, best gain: -inf\n",
      "[LightGBM] [Warning] No further splits with positive gain, best gain: -inf\n",
      "[LightGBM] [Warning] No further splits with positive gain, best gain: -inf\n",
      "[LightGBM] [Warning] No further splits with positive gain, best gain: -inf\n",
      "[LightGBM] [Warning] No further splits with positive gain, best gain: -inf\n",
      "[LightGBM] [Warning] No further splits with positive gain, best gain: -inf\n",
      "[LightGBM] [Warning] No further splits with positive gain, best gain: -inf\n",
      "[LightGBM] [Warning] No further splits with positive gain, best gain: -inf\n",
      "[LightGBM] [Warning] No further splits with positive gain, best gain: -inf\n",
      "[LightGBM] [Warning] No further splits with positive gain, best gain: -inf\n",
      "[LightGBM] [Warning] No further splits with positive gain, best gain: -inf\n",
      "[LightGBM] [Warning] No further splits with positive gain, best gain: -inf\n",
      "[LightGBM] [Warning] No further splits with positive gain, best gain: -inf\n",
      "[LightGBM] [Warning] No further splits with positive gain, best gain: -inf\n",
      "[LightGBM] [Warning] No further splits with positive gain, best gain: -inf\n",
      "[LightGBM] [Warning] No further splits with positive gain, best gain: -inf\n",
      "[LightGBM] [Warning] No further splits with positive gain, best gain: -inf\n",
      "[LightGBM] [Warning] No further splits with positive gain, best gain: -inf\n",
      "[LightGBM] [Warning] No further splits with positive gain, best gain: -inf\n",
      "[LightGBM] [Warning] No further splits with positive gain, best gain: -inf\n",
      "[LightGBM] [Warning] No further splits with positive gain, best gain: -inf\n",
      "[LightGBM] [Warning] No further splits with positive gain, best gain: -inf\n",
      "[LightGBM] [Warning] No further splits with positive gain, best gain: -inf\n",
      "[LightGBM] [Warning] No further splits with positive gain, best gain: -inf\n",
      "[LightGBM] [Warning] No further splits with positive gain, best gain: -inf\n",
      "[LightGBM] [Warning] No further splits with positive gain, best gain: -inf\n",
      "[LightGBM] [Warning] No further splits with positive gain, best gain: -inf\n",
      "[LightGBM] [Warning] No further splits with positive gain, best gain: -inf\n",
      "[LightGBM] [Warning] No further splits with positive gain, best gain: -inf\n",
      "[LightGBM] [Warning] No further splits with positive gain, best gain: -inf\n",
      "[LightGBM] [Warning] No further splits with positive gain, best gain: -inf\n",
      "[LightGBM] [Warning] No further splits with positive gain, best gain: -inf\n",
      "[LightGBM] [Warning] No further splits with positive gain, best gain: -inf\n",
      "[LightGBM] [Warning] No further splits with positive gain, best gain: -inf\n",
      "[LightGBM] [Warning] No further splits with positive gain, best gain: -inf\n",
      "[LightGBM] [Warning] No further splits with positive gain, best gain: -inf\n",
      "[LightGBM] [Warning] No further splits with positive gain, best gain: -inf\n",
      "[LightGBM] [Warning] No further splits with positive gain, best gain: -inf\n",
      "[LightGBM] [Warning] No further splits with positive gain, best gain: -inf\n",
      "[LightGBM] [Warning] No further splits with positive gain, best gain: -inf\n",
      "[LightGBM] [Warning] No further splits with positive gain, best gain: -inf\n",
      "[LightGBM] [Warning] No further splits with positive gain, best gain: -inf\n"
     ]
    },
    {
     "name": "stderr",
     "output_type": "stream",
     "text": [
      "\n"
     ]
    },
    {
     "data": {
      "text/html": [
       "<div>\n",
       "<style scoped>\n",
       "    .dataframe tbody tr th:only-of-type {\n",
       "        vertical-align: middle;\n",
       "    }\n",
       "\n",
       "    .dataframe tbody tr th {\n",
       "        vertical-align: top;\n",
       "    }\n",
       "\n",
       "    .dataframe thead th {\n",
       "        text-align: right;\n",
       "    }\n",
       "</style>\n",
       "<table border=\"1\" class=\"dataframe\">\n",
       "  <thead>\n",
       "    <tr style=\"text-align: right;\">\n",
       "      <th></th>\n",
       "      <th>Accuracy</th>\n",
       "      <th>Balanced Accuracy</th>\n",
       "      <th>ROC AUC</th>\n",
       "      <th>F1 Score</th>\n",
       "      <th>recall_func</th>\n",
       "      <th>Time Taken</th>\n",
       "    </tr>\n",
       "    <tr>\n",
       "      <th>Model</th>\n",
       "      <th></th>\n",
       "      <th></th>\n",
       "      <th></th>\n",
       "      <th></th>\n",
       "      <th></th>\n",
       "      <th></th>\n",
       "    </tr>\n",
       "  </thead>\n",
       "  <tbody>\n",
       "    <tr>\n",
       "      <th>BernoulliNB</th>\n",
       "      <td>0.88</td>\n",
       "      <td>0.91</td>\n",
       "      <td>0.91</td>\n",
       "      <td>0.89</td>\n",
       "      <td>1.00</td>\n",
       "      <td>0.02</td>\n",
       "    </tr>\n",
       "    <tr>\n",
       "      <th>AdaBoostClassifier</th>\n",
       "      <td>0.77</td>\n",
       "      <td>0.76</td>\n",
       "      <td>0.76</td>\n",
       "      <td>0.77</td>\n",
       "      <td>0.70</td>\n",
       "      <td>0.12</td>\n",
       "    </tr>\n",
       "    <tr>\n",
       "      <th>LinearDiscriminantAnalysis</th>\n",
       "      <td>0.73</td>\n",
       "      <td>0.72</td>\n",
       "      <td>0.72</td>\n",
       "      <td>0.73</td>\n",
       "      <td>0.70</td>\n",
       "      <td>0.02</td>\n",
       "    </tr>\n",
       "    <tr>\n",
       "      <th>RidgeClassifierCV</th>\n",
       "      <td>0.73</td>\n",
       "      <td>0.72</td>\n",
       "      <td>0.72</td>\n",
       "      <td>0.73</td>\n",
       "      <td>0.70</td>\n",
       "      <td>0.02</td>\n",
       "    </tr>\n",
       "    <tr>\n",
       "      <th>RidgeClassifier</th>\n",
       "      <td>0.73</td>\n",
       "      <td>0.72</td>\n",
       "      <td>0.72</td>\n",
       "      <td>0.73</td>\n",
       "      <td>0.70</td>\n",
       "      <td>0.02</td>\n",
       "    </tr>\n",
       "    <tr>\n",
       "      <th>LogisticRegression</th>\n",
       "      <td>0.73</td>\n",
       "      <td>0.72</td>\n",
       "      <td>0.72</td>\n",
       "      <td>0.73</td>\n",
       "      <td>0.70</td>\n",
       "      <td>0.02</td>\n",
       "    </tr>\n",
       "    <tr>\n",
       "      <th>LinearSVC</th>\n",
       "      <td>0.73</td>\n",
       "      <td>0.72</td>\n",
       "      <td>0.72</td>\n",
       "      <td>0.73</td>\n",
       "      <td>0.70</td>\n",
       "      <td>0.02</td>\n",
       "    </tr>\n",
       "    <tr>\n",
       "      <th>NearestCentroid</th>\n",
       "      <td>0.69</td>\n",
       "      <td>0.71</td>\n",
       "      <td>0.71</td>\n",
       "      <td>0.70</td>\n",
       "      <td>0.80</td>\n",
       "      <td>0.02</td>\n",
       "    </tr>\n",
       "    <tr>\n",
       "      <th>PassiveAggressiveClassifier</th>\n",
       "      <td>0.73</td>\n",
       "      <td>0.71</td>\n",
       "      <td>0.71</td>\n",
       "      <td>0.73</td>\n",
       "      <td>0.60</td>\n",
       "      <td>0.02</td>\n",
       "    </tr>\n",
       "    <tr>\n",
       "      <th>CalibratedClassifierCV</th>\n",
       "      <td>0.73</td>\n",
       "      <td>0.71</td>\n",
       "      <td>0.71</td>\n",
       "      <td>0.73</td>\n",
       "      <td>0.60</td>\n",
       "      <td>0.04</td>\n",
       "    </tr>\n",
       "    <tr>\n",
       "      <th>Perceptron</th>\n",
       "      <td>0.65</td>\n",
       "      <td>0.70</td>\n",
       "      <td>0.70</td>\n",
       "      <td>0.65</td>\n",
       "      <td>0.90</td>\n",
       "      <td>0.02</td>\n",
       "    </tr>\n",
       "    <tr>\n",
       "      <th>RandomForestClassifier</th>\n",
       "      <td>0.65</td>\n",
       "      <td>0.66</td>\n",
       "      <td>0.66</td>\n",
       "      <td>0.66</td>\n",
       "      <td>0.70</td>\n",
       "      <td>0.17</td>\n",
       "    </tr>\n",
       "    <tr>\n",
       "      <th>GaussianNB</th>\n",
       "      <td>0.65</td>\n",
       "      <td>0.66</td>\n",
       "      <td>0.66</td>\n",
       "      <td>0.66</td>\n",
       "      <td>0.70</td>\n",
       "      <td>0.02</td>\n",
       "    </tr>\n",
       "    <tr>\n",
       "      <th>LGBMClassifier</th>\n",
       "      <td>0.65</td>\n",
       "      <td>0.66</td>\n",
       "      <td>0.66</td>\n",
       "      <td>0.66</td>\n",
       "      <td>0.70</td>\n",
       "      <td>0.16</td>\n",
       "    </tr>\n",
       "    <tr>\n",
       "      <th>XGBClassifier</th>\n",
       "      <td>0.65</td>\n",
       "      <td>0.64</td>\n",
       "      <td>0.64</td>\n",
       "      <td>0.66</td>\n",
       "      <td>0.60</td>\n",
       "      <td>1.19</td>\n",
       "    </tr>\n",
       "    <tr>\n",
       "      <th>BaggingClassifier</th>\n",
       "      <td>0.62</td>\n",
       "      <td>0.63</td>\n",
       "      <td>0.63</td>\n",
       "      <td>0.62</td>\n",
       "      <td>0.70</td>\n",
       "      <td>0.06</td>\n",
       "    </tr>\n",
       "    <tr>\n",
       "      <th>NuSVC</th>\n",
       "      <td>0.62</td>\n",
       "      <td>0.63</td>\n",
       "      <td>0.63</td>\n",
       "      <td>0.62</td>\n",
       "      <td>0.70</td>\n",
       "      <td>0.02</td>\n",
       "    </tr>\n",
       "    <tr>\n",
       "      <th>ExtraTreesClassifier</th>\n",
       "      <td>0.62</td>\n",
       "      <td>0.63</td>\n",
       "      <td>0.63</td>\n",
       "      <td>0.62</td>\n",
       "      <td>0.70</td>\n",
       "      <td>0.12</td>\n",
       "    </tr>\n",
       "    <tr>\n",
       "      <th>SGDClassifier</th>\n",
       "      <td>0.65</td>\n",
       "      <td>0.62</td>\n",
       "      <td>0.62</td>\n",
       "      <td>0.65</td>\n",
       "      <td>0.50</td>\n",
       "      <td>0.00</td>\n",
       "    </tr>\n",
       "    <tr>\n",
       "      <th>LabelSpreading</th>\n",
       "      <td>0.58</td>\n",
       "      <td>0.60</td>\n",
       "      <td>0.60</td>\n",
       "      <td>0.58</td>\n",
       "      <td>0.70</td>\n",
       "      <td>0.02</td>\n",
       "    </tr>\n",
       "    <tr>\n",
       "      <th>DecisionTreeClassifier</th>\n",
       "      <td>0.58</td>\n",
       "      <td>0.60</td>\n",
       "      <td>0.60</td>\n",
       "      <td>0.58</td>\n",
       "      <td>0.70</td>\n",
       "      <td>0.01</td>\n",
       "    </tr>\n",
       "    <tr>\n",
       "      <th>QuadraticDiscriminantAnalysis</th>\n",
       "      <td>0.58</td>\n",
       "      <td>0.58</td>\n",
       "      <td>0.58</td>\n",
       "      <td>0.58</td>\n",
       "      <td>0.60</td>\n",
       "      <td>0.02</td>\n",
       "    </tr>\n",
       "    <tr>\n",
       "      <th>SVC</th>\n",
       "      <td>0.58</td>\n",
       "      <td>0.58</td>\n",
       "      <td>0.58</td>\n",
       "      <td>0.58</td>\n",
       "      <td>0.60</td>\n",
       "      <td>0.02</td>\n",
       "    </tr>\n",
       "    <tr>\n",
       "      <th>LabelPropagation</th>\n",
       "      <td>0.54</td>\n",
       "      <td>0.57</td>\n",
       "      <td>0.57</td>\n",
       "      <td>0.54</td>\n",
       "      <td>0.70</td>\n",
       "      <td>0.02</td>\n",
       "    </tr>\n",
       "    <tr>\n",
       "      <th>DummyClassifier</th>\n",
       "      <td>0.62</td>\n",
       "      <td>0.50</td>\n",
       "      <td>0.50</td>\n",
       "      <td>0.47</td>\n",
       "      <td>0.00</td>\n",
       "      <td>0.02</td>\n",
       "    </tr>\n",
       "    <tr>\n",
       "      <th>KNeighborsClassifier</th>\n",
       "      <td>0.42</td>\n",
       "      <td>0.40</td>\n",
       "      <td>0.40</td>\n",
       "      <td>0.43</td>\n",
       "      <td>0.30</td>\n",
       "      <td>0.02</td>\n",
       "    </tr>\n",
       "    <tr>\n",
       "      <th>ExtraTreeClassifier</th>\n",
       "      <td>0.38</td>\n",
       "      <td>0.37</td>\n",
       "      <td>0.37</td>\n",
       "      <td>0.39</td>\n",
       "      <td>0.30</td>\n",
       "      <td>0.02</td>\n",
       "    </tr>\n",
       "  </tbody>\n",
       "</table>\n",
       "</div>"
      ],
      "text/plain": [
       "                               Accuracy  Balanced Accuracy  ROC AUC  F1 Score  \\\n",
       "Model                                                                           \n",
       "BernoulliNB                        0.88               0.91     0.91      0.89   \n",
       "AdaBoostClassifier                 0.77               0.76     0.76      0.77   \n",
       "LinearDiscriminantAnalysis         0.73               0.72     0.72      0.73   \n",
       "RidgeClassifierCV                  0.73               0.72     0.72      0.73   \n",
       "RidgeClassifier                    0.73               0.72     0.72      0.73   \n",
       "LogisticRegression                 0.73               0.72     0.72      0.73   \n",
       "LinearSVC                          0.73               0.72     0.72      0.73   \n",
       "NearestCentroid                    0.69               0.71     0.71      0.70   \n",
       "PassiveAggressiveClassifier        0.73               0.71     0.71      0.73   \n",
       "CalibratedClassifierCV             0.73               0.71     0.71      0.73   \n",
       "Perceptron                         0.65               0.70     0.70      0.65   \n",
       "RandomForestClassifier             0.65               0.66     0.66      0.66   \n",
       "GaussianNB                         0.65               0.66     0.66      0.66   \n",
       "LGBMClassifier                     0.65               0.66     0.66      0.66   \n",
       "XGBClassifier                      0.65               0.64     0.64      0.66   \n",
       "BaggingClassifier                  0.62               0.63     0.63      0.62   \n",
       "NuSVC                              0.62               0.63     0.63      0.62   \n",
       "ExtraTreesClassifier               0.62               0.63     0.63      0.62   \n",
       "SGDClassifier                      0.65               0.62     0.62      0.65   \n",
       "LabelSpreading                     0.58               0.60     0.60      0.58   \n",
       "DecisionTreeClassifier             0.58               0.60     0.60      0.58   \n",
       "QuadraticDiscriminantAnalysis      0.58               0.58     0.58      0.58   \n",
       "SVC                                0.58               0.58     0.58      0.58   \n",
       "LabelPropagation                   0.54               0.57     0.57      0.54   \n",
       "DummyClassifier                    0.62               0.50     0.50      0.47   \n",
       "KNeighborsClassifier               0.42               0.40     0.40      0.43   \n",
       "ExtraTreeClassifier                0.38               0.37     0.37      0.39   \n",
       "\n",
       "                               recall_func  Time Taken  \n",
       "Model                                                   \n",
       "BernoulliNB                           1.00        0.02  \n",
       "AdaBoostClassifier                    0.70        0.12  \n",
       "LinearDiscriminantAnalysis            0.70        0.02  \n",
       "RidgeClassifierCV                     0.70        0.02  \n",
       "RidgeClassifier                       0.70        0.02  \n",
       "LogisticRegression                    0.70        0.02  \n",
       "LinearSVC                             0.70        0.02  \n",
       "NearestCentroid                       0.80        0.02  \n",
       "PassiveAggressiveClassifier           0.60        0.02  \n",
       "CalibratedClassifierCV                0.60        0.04  \n",
       "Perceptron                            0.90        0.02  \n",
       "RandomForestClassifier                0.70        0.17  \n",
       "GaussianNB                            0.70        0.02  \n",
       "LGBMClassifier                        0.70        0.16  \n",
       "XGBClassifier                         0.60        1.19  \n",
       "BaggingClassifier                     0.70        0.06  \n",
       "NuSVC                                 0.70        0.02  \n",
       "ExtraTreesClassifier                  0.70        0.12  \n",
       "SGDClassifier                         0.50        0.00  \n",
       "LabelSpreading                        0.70        0.02  \n",
       "DecisionTreeClassifier                0.70        0.01  \n",
       "QuadraticDiscriminantAnalysis         0.60        0.02  \n",
       "SVC                                   0.60        0.02  \n",
       "LabelPropagation                      0.70        0.02  \n",
       "DummyClassifier                       0.00        0.02  \n",
       "KNeighborsClassifier                  0.30        0.02  \n",
       "ExtraTreeClassifier                   0.30        0.02  "
      ]
     },
     "execution_count": 10,
     "metadata": {},
     "output_type": "execute_result"
    }
   ],
   "source": [
    "# Baselines\n",
    "# LazyClassifier runs all models using their default settings. \n",
    "# Use this to get a sense of the top performing models and then finetune them.\n",
    "# We are more interested predicting the unhappy class (class 0) correctly. So, we make it the positive class.\n",
    "# We should improve recall. So, we select the best models based on recall. \n",
    "# F1 score is a combination of recall and precision. \n",
    "\n",
    "\n",
    "clf = LazyClassifier(verbose=-1,ignore_warnings=True, custom_metric=recall_func, predictions=True, random_state=seed)\n",
    "models,predictions = clf.fit(x_train, x_test, y_train, y_test)\n",
    "\n",
    "models"
   ]
  },
  {
   "cell_type": "code",
   "execution_count": 11,
   "metadata": {},
   "outputs": [],
   "source": [
    "# Some Sklearn models do not have feature importance function.\n",
    "# So, wrappers for those classifiers were created.\n",
    "class MyBaggingClassifier(BaggingClassifier):\n",
    "    @property\n",
    "    def feature_importances_(self):\n",
    "        feature_importances = np.mean([\n",
    "            tree.feature_importances_ for tree in self.estimators_], axis=0)\n",
    "        \n",
    "        return feature_importances\n",
    "    \n",
    "class MyBernoulliNB(BernoulliNB):\n",
    "    @property\n",
    "    def feature_importances_(self):\n",
    "        # Compute feature importance as absolute difference in log probabilities\n",
    "        return np.abs(self.feature_log_prob_[1] - self.feature_log_prob_[0])"
   ]
  },
  {
   "cell_type": "code",
   "execution_count": 12,
   "metadata": {},
   "outputs": [],
   "source": [
    "# Data pre-processing steps\n",
    "preprocessor = Pipeline(\n",
    "    steps=[(\"scaler\", StandardScaler())] #(\"imputer\", SimpleImputer(strategy=\"mean\")), \n",
    ")"
   ]
  },
  {
   "cell_type": "markdown",
   "metadata": {},
   "source": [
    "Based on the LazyPredictor results, three classifiers were selected, each representing a distinct category:\n",
    "- BernoulliNB - probabilistic\n",
    "- AdaBoost - ensemble method\n",
    "- LinearSVC - linear model "
   ]
  },
  {
   "cell_type": "code",
   "execution_count": 13,
   "metadata": {},
   "outputs": [
    {
     "name": "stdout",
     "output_type": "stream",
     "text": [
      "   Accuracy  Recall  Precision\n",
      "0      0.88    1.00       0.77\n",
      "1      0.77    0.70       0.70\n",
      "2      0.73    0.70       0.64\n"
     ]
    },
    {
     "data": {
      "image/png": "[encoded data removed]",
      "text/plain": [
       "<Figure size 900x300 with 3 Axes>"
      ]
     },
     "metadata": {},
     "output_type": "display_data"
    }
   ],
   "source": [
    "# Re-training the selected models to evaluate consistency with LazyPredict results\n",
    "\n",
    "classifiers = {\n",
    "    'NaiveBayes': MyBernoulliNB(),\n",
    "    'AdaBoost': AdaBoostClassifier(random_state=seed),\n",
    "    'LinearSVC': LinearSVC(random_state=seed)\n",
    "}\n",
    "\n",
    "\n",
    "fig, ax = plt.subplots(1, 3, figsize=(9,3), constrained_layout=True)\n",
    "\n",
    "metrics = []\n",
    "importances = []\n",
    "\n",
    "for idx, (clf_name, clf) in enumerate(classifiers.items()):\n",
    "\n",
    "    model = Pipeline([\n",
    "    (\"preprocessing\", preprocessor),\n",
    "    (\"classifier\", clf)\n",
    "    ])\n",
    "\n",
    "    model.fit(x_train, y_train) #clf.fit(x_train, y_train, eval_set=[(x_test, y_test)]) #(eval_set for early stopping)\n",
    "\n",
    "    # Make predictions\n",
    "    y_pred = model.predict(x_test)\n",
    "\n",
    "    accuracy = accuracy_score(y_test, y_pred,normalize=True)\n",
    "    precision = precision_score(y_test, y_pred, pos_label=0)\n",
    "    recall = recall_score(y_test, y_pred, pos_label=0)\n",
    "\n",
    "    metrics.append([accuracy, recall, precision])\n",
    "\n",
    "    cm = confusion_matrix(y_test, y_pred)\n",
    "    s = sns.heatmap(cm, ax = ax[idx], cbar = False, annot=True, cmap='Blues')\n",
    "    s.set_xlabel('Pred')\n",
    "    s.set_ylabel('True')\n",
    "    s.set_title(clf_name)\n",
    "\n",
    "metrics_df = pd.DataFrame(metrics, columns=['Accuracy', 'Recall', 'Precision'])\n",
    "\n",
    "print(metrics_df)\n",
    "plt.show()"
   ]
  },
  {
   "cell_type": "markdown",
   "metadata": {},
   "source": [
    "## Feature selection"
   ]
  },
  {
   "cell_type": "code",
   "execution_count": 14,
   "metadata": {},
   "outputs": [],
   "source": [
    "# Defining recall with unhappy class as the positive class as the scoring function\n",
    "def my_scorer(estimator, x, y):\n",
    "    \n",
    "    y_pred = estimator.predict(x)\n",
    "    score = recall_score(y, y_pred, pos_label=0)\n",
    "\n",
    "    return score"
   ]
  },
  {
   "cell_type": "markdown",
   "metadata": {},
   "source": [
    "#### Two methods were considered for feature selection\n",
    "1. Exhaustively searching the whole feature space by considering every feature combination\n",
    "1. Recursive feature elimination with cross validation\n",
    "\n",
    "The first method is in-efficient and time consuming, especially when cross validation is used for evaluation.\n",
    "With the second method, we can use cross validation to determine the optimal number of features required."
   ]
  },
  {
   "cell_type": "code",
   "execution_count": 15,
   "metadata": {},
   "outputs": [],
   "source": [
    "# UNCOMMENT TO RUN\n",
    "\n",
    "# ## Feature-wise classification\n",
    "# results = {clf_name:[] for clf_name in classifiers.keys()}\n",
    "# loo = LeaveOneOut()\n",
    "\n",
    "# for idx, (clf_name, clf) in enumerate(classifiers.items()):\n",
    "#     best_combinations = []\n",
    "#     for i in range(1, len(features)+1):\n",
    "#         for combo in combinations(features, i):\n",
    "#             X_subset = df[list(combo)]\n",
    "#             x_train_subset, x_test_subset, y_train, y_test = train_test_split(X_subset, Y, test_size=0.2, random_state=seed)\n",
    "\n",
    "#             model = Pipeline([\n",
    "#                 (\"preprocessing\", preprocessor),\n",
    "#                 (\"classifier\", clf)\n",
    "#             ])\n",
    "\n",
    "#             scores = cross_val_score(model, x_train_subset, y_train, cv=loo, scoring=my_scorer)\n",
    "#             avg_score = np.mean(scores)\n",
    "#             model.fit(x_train_subset, y_train)\n",
    "\n",
    "#             # Make predictions\n",
    "#             y_pred = model.predict(x_test_subset)\n",
    "#             accuracy = accuracy_score(y_test, y_pred)\n",
    "#             precision = precision_score(y_test, y_pred, pos_label=0)\n",
    "#             recall = recall_score(y_test, y_pred, pos_label=0)\n",
    "\n",
    "#             best_combinations.append((combo, avg_score, accuracy, recall, precision))\n",
    "    \n",
    "#     best_combinations.sort(key=lambda x:x[1], reverse=True)\n",
    "#     results[clf_name] = best_combinations[:3]\n",
    "\n",
    "# final_result = []\n",
    "\n",
    "# for clf_name, top_combos in results.items():\n",
    "#     for combo, score, acc, recall, precision in top_combos:\n",
    "#         final_result.append({'Classifier':clf_name, 'Features':combo, 'Cross-val Score':score, 'Accuracy':acc, 'Precision':precision, 'Recall':recall})\n",
    "\n",
    "# final_df = pd.DataFrame(final_result)\n",
    "# print(final_df)\n",
    "            \n",
    "        "
   ]
  },
  {
   "cell_type": "markdown",
   "metadata": {},
   "source": [
    "I do an initial hyperparameter tuning for with entire feature set before feature selection."
   ]
  },
  {
   "cell_type": "code",
   "execution_count": 16,
   "metadata": {},
   "outputs": [
    {
     "name": "stdout",
     "output_type": "stream",
     "text": [
      "  3%|▎         | 14/500 [00:10<06:13,  1.30trial/s, best loss: -0.24]\n",
      "\n",
      " Time taken: 0 hours 0 minutes and 10.77 seconds.\n",
      "Best hyperparameters: {'alpha': 0.040264229636336565, 'binarize': 0.737690850824399, 'fit_prior': True}\n",
      "   Accuracy  Recall  Precision\n",
      "0      0.85    0.80       0.80\n"
     ]
    },
    {
     "data": {
      "image/png": "[encoded data removed]",
      "text/plain": [
       "<Figure size 300x300 with 1 Axes>"
      ]
     },
     "metadata": {},
     "output_type": "display_data"
    },
    {
     "name": "stdout",
     "output_type": "stream",
     "text": [
      "  3%|▎         | 14/500 [04:06<2:22:28, 17.59s/trial, best loss: -0.22]\n",
      "Best hyperparameters: {'algorithm': 'SAMME', 'learning_rate': 0.3502049947378976, 'n_estimators': 50}\n",
      "   Accuracy  Recall  Precision\n",
      "0      0.85    0.80       0.80\n"
     ]
    },
    {
     "data": {
      "image/png": "[encoded data removed]",
      "text/plain": [
       "<Figure size 300x300 with 1 Axes>"
      ]
     },
     "metadata": {},
     "output_type": "display_data"
    },
    {
     "name": "stdout",
     "output_type": "stream",
     "text": [
      "  4%|▍         | 19/500 [00:15<06:32,  1.22trial/s, best loss: -0.19]\n",
      "Best hyperparameters: {'C': 0.013433227072091682, 'loss': 'hinge', 'max_iter': 4500, 'tol': 0.0500466063883078}\n",
      "   Accuracy  Recall  Precision\n",
      "0      0.73    0.70       0.64\n"
     ]
    },
    {
     "data": {
      "image/png": "[encoded data removed]",
      "text/plain": [
       "<Figure size 300x300 with 1 Axes>"
      ]
     },
     "metadata": {},
     "output_type": "display_data"
    }
   ],
   "source": [
    "best_params_all1 = {}\n",
    "best_params_all1['NaiveBayes'] = hyperOpt_NaiveBayes(df[features], Y, preprocessor, my_scorer, seed)\n",
    "best_params_all1['AdaBoost'] = hyperOpt_AdaBoost(df[features], Y, preprocessor, my_scorer, seed)\n",
    "best_params_all1['LinearSVC'] = hyperOpt_LinearSVC(df[features], Y, preprocessor, my_scorer, seed)"
   ]
  },
  {
   "cell_type": "markdown",
   "metadata": {},
   "source": [
    "Recursive feature elimination identified the most influential predictors across all three models. Given the dataset's limited size, leave-one-out cross-validation was employed for both feature selection and hyperparameter optimization.\n",
    "\n",
    "Feature selection findings below align with the earlier correlation analysis, confirming that variables X1, X3, X5, and X6 demonstrate the strongest relationships with the target variable."
   ]
  },
  {
   "cell_type": "code",
   "execution_count": 17,
   "metadata": {},
   "outputs": [
    {
     "name": "stdout",
     "output_type": "stream",
     "text": [
      "Processing: NaiveBayes\n",
      "Optimal Number of Features: 1\n",
      "Ranking: [3 5 2 4 1 6]\n",
      "Selected Features: ['X5']\n",
      "Processing: AdaBoost\n",
      "Optimal Number of Features: 5\n",
      "Ranking: [1 2 1 1 1 1]\n",
      "Selected Features: ['X1' 'X3' 'X4' 'X5' 'X6']\n",
      "Processing: LinearSVC\n",
      "Optimal Number of Features: 4\n",
      "Ranking: [1 2 1 3 1 1]\n",
      "Selected Features: ['X1' 'X3' 'X5' 'X6']\n"
     ]
    }
   ],
   "source": [
    "## Recursive feature elimination\n",
    "results = {clf_name:[] for clf_name in classifiers.keys()}\n",
    "features_subset = []\n",
    "for idx, (clf_name, clf) in enumerate(classifiers.items()):\n",
    "    \n",
    "    clf.set_params(**best_params_all1[clf_name])\n",
    "    loo = LeaveOneOut()\n",
    "    \n",
    "    print(f\"Processing: {clf_name}\")\n",
    "\n",
    "    #rfe = RFE(clf, n_features_to_select=3)\n",
    "    rfecv = RFECV(estimator=clf, step=1, cv=loo, scoring=my_scorer, n_jobs=-1)\n",
    "    model = Pipeline([\n",
    "        (\"preprocessing\", preprocessor),\n",
    "        (\"feature_selection\", rfecv),\n",
    "        (\"classifier\", clf)\n",
    "    ])\n",
    "\n",
    "    model.fit(x_train, y_train)\n",
    "\n",
    "    # Print ranking of features\n",
    "    selected_features = np.array(features)[rfecv.support_]\n",
    "    features_subset.append(list(selected_features))\n",
    "    print(f\"Optimal Number of Features: {rfecv.n_features_}\")\n",
    "    print(f\"Ranking: {rfecv.ranking_}\")\n",
    "    print(f\"Selected Features: {selected_features}\")\n",
    "        "
   ]
  },
  {
   "cell_type": "code",
   "execution_count": 18,
   "metadata": {},
   "outputs": [
    {
     "data": {
      "text/plain": [
       "[['X5'], ['X1', 'X3', 'X4', 'X5', 'X6'], ['X1', 'X3', 'X5', 'X6']]"
      ]
     },
     "execution_count": 18,
     "metadata": {},
     "output_type": "execute_result"
    }
   ],
   "source": [
    "features_subset"
   ]
  },
  {
   "cell_type": "code",
   "execution_count": 19,
   "metadata": {},
   "outputs": [],
   "source": [
    "#rfecv.cv_results_"
   ]
  },
  {
   "cell_type": "markdown",
   "metadata": {},
   "source": [
    "Since feature selection prioritized minimizing recall, the chosen features may result in lower precision and accuracy."
   ]
  },
  {
   "cell_type": "code",
   "execution_count": 20,
   "metadata": {},
   "outputs": [
    {
     "name": "stdout",
     "output_type": "stream",
     "text": [
      "Processing: NaiveBayes\n",
      "Processing: AdaBoost\n",
      "Processing: LinearSVC\n",
      "   Accuracy  Recall  Precision\n",
      "0      0.58    1.00       0.48\n",
      "1      0.85    0.80       0.80\n",
      "2      0.73    0.70       0.64\n"
     ]
    },
    {
     "data": {
      "image/png": "[encoded data removed]",
      "text/plain": [
       "<Figure size 900x300 with 3 Axes>"
      ]
     },
     "metadata": {},
     "output_type": "display_data"
    }
   ],
   "source": [
    "## Evaluating feature selection\n",
    "fig, ax = plt.subplots(1, 3, figsize=(9,3), constrained_layout=True)\n",
    "metrics = []\n",
    "importances = []\n",
    "for idx, (clf_name, clf) in enumerate(classifiers.items()): \n",
    "    print(f\"Processing: {clf_name}\")\n",
    "    X_subset = df[features_subset[idx]]\n",
    "    x_train_subset, x_test_subset, y_train, y_test = train_test_split(X_subset, Y, test_size=0.2, random_state=seed)\n",
    "\n",
    "    model = Pipeline([\n",
    "            (\"preprocessing\", preprocessor),\n",
    "            (\"classifier\", clf)\n",
    "        ])\n",
    "\n",
    "\n",
    "    model.fit(x_train_subset, y_train)\n",
    "\n",
    "    # Make predictions\n",
    "    y_pred = model.predict(x_test_subset)\n",
    "\n",
    "    accuracy = accuracy_score(y_test, y_pred)\n",
    "    precision = precision_score(y_test, y_pred, pos_label=0)\n",
    "    recall = recall_score(y_test, y_pred, pos_label=0)\n",
    "\n",
    "    metrics.append([accuracy, recall, precision])\n",
    "\n",
    "    cm = confusion_matrix(y_test, y_pred)\n",
    "    s = sns.heatmap(cm, ax = ax[idx], cbar = False, annot=True, cmap='Blues')\n",
    "    s.set_xlabel('Pred')\n",
    "    s.set_ylabel('True')\n",
    "    s.set_title(clf_name)\n",
    "\n",
    "metrics_df = pd.DataFrame(metrics, columns=['Accuracy', 'Recall', 'Precision'])\n",
    "print(metrics_df)\n",
    "plt.show()"
   ]
  },
  {
   "cell_type": "markdown",
   "metadata": {},
   "source": [
    "## Hyperparameter tuning\n"
   ]
  },
  {
   "cell_type": "code",
   "execution_count": 21,
   "metadata": {},
   "outputs": [
    {
     "name": "stdout",
     "output_type": "stream",
     "text": [
      "  2%|▏         | 12/500 [00:09<06:41,  1.21trial/s, best loss: -0.38]\n",
      "\n",
      " Time taken: 0 hours 0 minutes and 9.88 seconds.\n",
      "Best hyperparameters: {'alpha': 0.12901808982310917, 'binarize': 0.4154456199995351, 'fit_prior': True}\n",
      "   Accuracy  Recall  Precision\n",
      "0      0.58    1.00       0.48\n"
     ]
    },
    {
     "data": {
      "image/png": "[encoded data removed]",
      "text/plain": [
       "<Figure size 300x300 with 1 Axes>"
      ]
     },
     "metadata": {},
     "output_type": "display_data"
    },
    {
     "name": "stdout",
     "output_type": "stream",
     "text": [
      "  3%|▎         | 14/500 [03:40<2:07:29, 15.74s/trial, best loss: -0.22]\n",
      "Best hyperparameters: {'algorithm': 'SAMME', 'learning_rate': 0.3502049947378976, 'n_estimators': 50}\n",
      "   Accuracy  Recall  Precision\n",
      "0      0.85    0.80       0.80\n"
     ]
    },
    {
     "data": {
      "image/png": "[encoded data removed]",
      "text/plain": [
       "<Figure size 300x300 with 1 Axes>"
      ]
     },
     "metadata": {},
     "output_type": "display_data"
    },
    {
     "name": "stdout",
     "output_type": "stream",
     "text": [
      "  4%|▍         | 19/500 [00:13<05:41,  1.41trial/s, best loss: -0.2]\n",
      "Best hyperparameters: {'C': 0.013433227072091682, 'loss': 'hinge', 'max_iter': 4500, 'tol': 0.0500466063883078}\n",
      "   Accuracy  Recall  Precision\n",
      "0      0.73    0.70       0.64\n"
     ]
    },
    {
     "data": {
      "image/png": "[encoded data removed]",
      "text/plain": [
       "<Figure size 300x300 with 1 Axes>"
      ]
     },
     "metadata": {},
     "output_type": "display_data"
    }
   ],
   "source": [
    "best_params_all = {}\n",
    "best_params_all['NaiveBayes'] = hyperOpt_NaiveBayes(df[features_subset[0]], Y, preprocessor, my_scorer, seed)\n",
    "best_params_all['AdaBoost'] = hyperOpt_AdaBoost(df[features_subset[1]], Y, preprocessor, my_scorer, seed)\n",
    "best_params_all['LinearSVC'] = hyperOpt_LinearSVC(df[features_subset[2]], Y, preprocessor, my_scorer, seed)\n",
    "\n",
    "#best_params_all.keys()"
   ]
  },
  {
   "cell_type": "code",
   "execution_count": 25,
   "metadata": {},
   "outputs": [
    {
     "data": {
      "image/png": "[encoded data removed]",
      "text/plain": [
       "<Figure size 900x300 with 2 Axes>"
      ]
     },
     "metadata": {},
     "output_type": "display_data"
    }
   ],
   "source": [
    "fig, ax = plt.subplots(1, 2, figsize=(9,3), constrained_layout=True)\n",
    "\n",
    "for idx, (clf_name, clf) in enumerate(classifiers.items()):\n",
    "    \n",
    "    # LinearSVC does not define 'predict_proba' values required for ROC computation\n",
    "    if clf_name == 'LinearSVC':\n",
    "        continue\n",
    "    \n",
    "    X_subset = df[features_subset[idx]]\n",
    "    x_train_subset, x_test_subset, y_train, y_test = train_test_split(X_subset, Y, test_size=0.2, random_state=seed)\n",
    "\n",
    "    clf.set_params(**best_params_all[clf_name])\n",
    "    \n",
    "    model = Pipeline([\n",
    "        (\"preprocessing\", preprocessor),\n",
    "        (\"classifier\", clf)\n",
    "    ])\n",
    "\n",
    "    model.fit(x_train_subset, y_train)\n",
    "\n",
    "    y_probs_train = model.predict_proba(x_train_subset)[:,0] # Positive class is 0\n",
    "    y_probs_test = model.predict_proba(x_test_subset)[:,0] # Positive class is 0\n",
    "\n",
    "    fpr_train, tpr_train, thresholds_train = roc_curve(y_train, y_probs_train, pos_label=0)\n",
    "    fpr_test, tpr_test, thresholds_test = roc_curve(y_test, y_probs_test, pos_label=0)\n",
    "\n",
    "    roc_auc_train = auc(fpr_train, tpr_train)\n",
    "    roc_auc_test = auc(fpr_test, tpr_test)\n",
    "\n",
    "    ax[idx].plot(fpr_train, tpr_train, 'b', label='Train AUC = {:0.2f}'.format(roc_auc_train))\n",
    "    ax[idx].plot(fpr_test, tpr_test, 'r', label='Test AUC = {:0.2f}'.format(roc_auc_test))\n",
    "    ax[idx].legend()\n",
    "    ax[idx].set_title(clf_name)\n",
    "    ax[idx].set_xlabel('FPR')\n",
    "    ax[idx].set_ylabel('TPR')\n",
    "\n",
    "plt.show()"
   ]
  },
  {
   "cell_type": "markdown",
   "metadata": {},
   "source": [
    "Despite achieving perfect recall, the Naive Bayes classifier's accuracy approximates random classification, indicating poor overall performance. The LinearSVC has delivered substandard results. Based on comprehensive evaluation metrics, the AdaBoost classifier was selected as the final predictive model."
   ]
  },
  {
   "cell_type": "markdown",
   "metadata": {},
   "source": [
    "## Voting and stacking \n",
    "\n",
    "The architectural diversity among the selected models—Naive Bayes, AdaBoost, and SVC—enables them to capture complementary patterns in the data. Leveraging this diversity, voting and stacking ensemble techniques were implemented to integrate these structurally distinct classifiers, potentially enhancing predictive performance beyond what any individual model could achieve alone.\n",
    "\n",
    "Classification results show that the ensemble models outperform the individual models."
   ]
  },
  {
   "cell_type": "code",
   "execution_count": 23,
   "metadata": {},
   "outputs": [
    {
     "name": "stdout",
     "output_type": "stream",
     "text": [
      "   Accuracy  Recall  Precision\n",
      "0      0.85    0.90       0.75\n",
      "1      0.88    0.90       0.82\n",
      "2      0.88    0.90       0.82\n"
     ]
    }
   ],
   "source": [
    "y_preds = {}\n",
    "\n",
    "# Hard voting \n",
    "clf1 = MyBernoulliNB()\n",
    "clf2 = AdaBoostClassifier(random_state=seed)\n",
    "clf3 = SVC(random_state=seed, probability=True)\n",
    "\n",
    "eclf1 = VotingClassifier(estimators=[('nb', clf1), ('aboost', clf2), ('lnsvc', clf3)],voting='hard')\n",
    "\n",
    "model1 = Pipeline([\n",
    "            (\"preprocessing\", preprocessor),\n",
    "            (\"classifier\", eclf1)\n",
    "])\n",
    "\n",
    "model1.fit(x_train, y_train)\n",
    "y_preds['hard'] = model1.predict(x_test)\n",
    "\n",
    "# Soft voting\n",
    "clf1 = MyBernoulliNB()\n",
    "clf2 = AdaBoostClassifier(random_state=seed)\n",
    "clf3 = SVC(random_state=seed, probability=True)\n",
    "\n",
    "eclf2 = VotingClassifier(estimators=[('nb', clf1), ('aboost', clf2), ('lnsvc', clf3)], voting='soft')\n",
    "\n",
    "model2 = Pipeline([\n",
    "            (\"preprocessing\", preprocessor),\n",
    "            (\"classifier\", eclf2)\n",
    "])\n",
    "\n",
    "model2.fit(x_train, y_train)\n",
    "y_preds['soft'] = model2.predict(x_test)\n",
    "\n",
    "# Soft voting with weights\n",
    "clf1 = MyBernoulliNB()\n",
    "clf2 = AdaBoostClassifier(random_state=seed)\n",
    "clf3 = SVC(random_state=seed, probability=True)\n",
    "\n",
    "eclf3 = VotingClassifier(estimators=[('nb', clf1), ('aboost', clf2), ('lnsvc', clf3)], voting='soft', weights=[2, 1, 1])\n",
    "\n",
    "model3 = Pipeline([\n",
    "            (\"preprocessing\", preprocessor),\n",
    "            (\"classifier\", eclf3)\n",
    "])\n",
    "\n",
    "model3.fit(x_train, y_train)\n",
    "y_preds['weighted'] = model3.predict(x_test)\n",
    "\n",
    "# Print accuracy scores\n",
    "metrics = []\n",
    "for model_name, preds in y_preds.items():\n",
    "\n",
    "    accuracy = accuracy_score(y_test, preds)\n",
    "    precision = precision_score(y_test, preds, pos_label=0)\n",
    "    recall = recall_score(y_test, preds, pos_label=0)\n",
    "\n",
    "    metrics.append([accuracy, recall, precision])\n",
    "\n",
    "metrics_df = pd.DataFrame(metrics, columns=['Accuracy', 'Recall', 'Precision'])\n",
    "print(metrics_df)"
   ]
  },
  {
   "cell_type": "code",
   "execution_count": 24,
   "metadata": {},
   "outputs": [
    {
     "name": "stdout",
     "output_type": "stream",
     "text": [
      "   Accuracy  Recall  Precision\n",
      "0      0.88    0.90       0.82\n"
     ]
    }
   ],
   "source": [
    "# Stacking classifier\n",
    "\n",
    "clf1 = MyBernoulliNB()\n",
    "clf2 = AdaBoostClassifier(random_state=seed)\n",
    "clf3 = SVC(random_state=seed, probability=True)\n",
    "\n",
    "# Define the base models\n",
    "estimators = [('nb', clf1), ('aboost', clf2), ('lnsvc', clf3)]\n",
    "final_estimator = XGBClassifier(random_state=seed)\n",
    "\n",
    "eclf4 = StackingClassifier(estimators=estimators,final_estimator=final_estimator,cv=loo)\n",
    "\n",
    "model4 = Pipeline([\n",
    "            (\"preprocessing\", preprocessor),\n",
    "            (\"classifier\", eclf4)\n",
    "])\n",
    "\n",
    "\n",
    "model4.fit(x_train, y_train)\n",
    "y_pred = model4.predict(x_test)\n",
    "\n",
    "accuracy = accuracy_score(y_test, preds)\n",
    "precision = precision_score(y_test, preds, pos_label=0)\n",
    "recall = recall_score(y_test, preds, pos_label=0)\n",
    "\n",
    "metrics = [[accuracy, recall, precision]]\n",
    "metrics_df = pd.DataFrame(metrics, columns=['Accuracy', 'Recall', 'Precision'])\n",
    "print(metrics_df)"
   ]
  },
  {
   "cell_type": "markdown",
   "metadata": {},
   "source": [
    "## Conclusion:\n",
    "\n",
    "My analysis aimed to predict unhappy customers (unhappy = positive class), since focusing on dissatisfied is more crucial at this stage. **It's important to acknowledge that this analysis was conducted on a relatively small dataset, which inherently limits the generalizability and stability of the findings.** I explored various classification models, feature selection techniques, and ensemble methods to optimize predictive performance. Out of 30 classification models, 3 were selected based on baseline recall metrics. While the Naive Bayes and LinearSVC models demonstrated limited effectiveness, the AdaBoost classifier emerged as the most robust individual model, particularly after rigorous feature selection using Recursive Feature Elimination with Leave-One-Out Cross-Validation.\n",
    "\n",
    "My findings underscore the significance of specific factors—on-time delivery (X1), order completeness (X3), courier satisfaction (X5), and app usability (X6)—in reducing customer dissatisfaction. Notably, ensemble methods, specifically voting and stacking, significantly improved predictive accuracy and recall compared to individual models. This highlights the value of combining diverse model architectures to capture complex data patterns and enhance overall prediction capabilities. **However, the small dataset size means that these patterns may not be fully representative of the broader customer base.**\n",
    "\n",
    "## Recommendations:\n",
    "\n",
    "1.  **Prioritize Operational Improvements in Key Areas:**\n",
    "    * The strong correlation between dissatisfaction and factors X1, X3, X5, and X6 necessitates focused operational improvements.\n",
    "    * **X1 (On-Time Delivery):** Implement real-time tracking, optimize delivery routes, and provide proactive communication regarding delays. Invest in technology to improve delivery time predictability.\n",
    "    * **X3 (Order Completeness):** Enhance inventory management, improve order verification processes, and ensure clear communication regarding item availability.\n",
    "    * **X5 (Courier Satisfaction):** Invest in courier training, provide competitive compensation, and foster a supportive work environment. Happy couriers lead to happy customers.\n",
    "    * **X6 (App Usability):** Conduct regular user testing, simplify the ordering process, and address any technical glitches promptly.\n",
    "2.  **Leverage the AdaBoost Ensemble Model for Prediction:**\n",
    "    * The AdaBoost ensemble model, enhanced by voting or stacking, demonstrated the highest predictive performance. Integrate this model into the customer feedback analysis pipeline.\n",
    "    * Use the model to create a early warning system to flag customers that are likely to be unhappy. \n",
    "3.  **Prioritize Dataset Expansion:**\n",
    "    * Implement strategies to gather feedback from a wider range of customers, including those who may not typically respond to surveys.\n",
    "    * Explore methods such as in-app feedback prompts, post-delivery surveys, and social media monitoring to increase data collection.\n",
    "4.  **Invest in Feature Engineering:**\n",
    "    * While the current features provide valuable insights, explore additional data sources and feature engineering techniques to further enhance predictive accuracy.\n",
    "    * Consider factors such as delivery distance, order frequency, and customer demographics.\n",
    "6.  **Focus on \"Unhappy\" Customer Recovery:**\n",
    "    * Develop targeted strategies for addressing and resolving the issues identified by the predictive model.\n",
    "    * Proactive outreach to potentially unhappy customers can mitigate negative experiences and build customer loyalty."
   ]
  }
 ],
 "metadata": {
  "kernelspec": {
   "display_name": "Python 3",
   "language": "python",
   "name": "python3"
  },
  "language_info": {
   "codemirror_mode": {
    "name": "ipython",
    "version": 3
   },
   "file_extension": ".py",
   "mimetype": "text/x-python",
   "name": "python",
   "nbconvert_exporter": "python",
   "pygments_lexer": "ipython3",
   "version": "3.12.1"
  }
 },
 "nbformat": 4,
 "nbformat_minor": 2
}
